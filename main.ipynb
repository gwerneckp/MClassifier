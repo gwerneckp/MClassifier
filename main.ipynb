{
 "cells": [
  {
   "cell_type": "markdown",
   "metadata": {},
   "source": [
    "## Setup"
   ]
  },
  {
   "cell_type": "markdown",
   "metadata": {},
   "source": [
    "### Loading\n",
    "We first import `nbtschematic` to be able to load `.schematic` files. It uses `nbtlib` to parse the nbt file and some classes inherented from `numpy` classes to store the data. "
   ]
  },
  {
   "cell_type": "code",
   "execution_count": 2,
   "metadata": {},
   "outputs": [
    {
     "data": {
      "text/plain": [
       "<SchematicFile 'Schematic': Schematic({'Blocks': ByteArray([Byte(0), Byte(-97), Byte(0), Byte(-97), Byte(-97), Byte(-97), Byte(0), Byte(-97), Byte(0), Byte(-97), Byte(-97), Byte(-97), Byte(-97), Byte(-97), Byte(-97), Byte(-97), Byte(-97), Byte(-97), Byte(0), Byte(-97), Byte(0), Byte(-97), Byte(-97), Byte(-97), Byte(0), Byte(-97), Byte(0), Byte(0), Byte(0), Byte(0), Byte(0), Byte(35), Byte(0), Byte(0), Byte(0), Byte(0)]), 'Materials': String('Alpha'), 'Data': ByteArray([Byte(0), Byte(14), Byte(0), Byte(14), Byte(14), Byte(14), Byte(0), Byte(14), Byte(0), Byte(14), Byte(14), Byte(14), Byte(14), Byte(14), Byte(14), Byte(14), Byte(14), Byte(14), Byte(0), Byte(14), Byte(0), Byte(14), Byte(14), Byte(14), Byte(0), Byte(14), Byte(0), Byte(0), Byte(0), Byte(0), Byte(0), Byte(13), Byte(0), Byte(0), Byte(0), Byte(0)]), 'TileEntities': List[BlockEntity]([]), 'Entities': List[Entity]([]), 'Length': Short(3), 'WEOffsetX': Int(0), 'WEOffsetY': Int(-2), 'WEOriginZ': Int(26), 'WEOffsetZ': Int(-2), 'Height': Short(4), 'WEOriginY': Int(12), 'WEOriginX': Int(-11), 'Width': Short(3)})>"
      ]
     },
     "execution_count": 2,
     "metadata": {},
     "output_type": "execute_result"
    }
   ],
   "source": [
    "from nbtschematic import SchematicFile\n",
    "sf = SchematicFile.load(\"schematics/apple.schematic\")\n",
    "sf"
   ]
  },
  {
   "cell_type": "markdown",
   "metadata": {},
   "source": [
    "### Parsing\n",
    "What matters to us is the `blocks` property of the `SchematicFile` object. It is a 3D array of `Block` objects. Each `Block` object is a Byte type holding the block id. To be able to use it in our model, we need to convert it into a numpy `np.array`."
   ]
  },
  {
   "cell_type": "code",
   "execution_count": 3,
   "metadata": {},
   "outputs": [
    {
     "data": {
      "text/plain": [
       "array([[[  0, -97,   0],\n",
       "        [-97, -97, -97],\n",
       "        [  0, -97,   0]],\n",
       "\n",
       "       [[-97, -97, -97],\n",
       "        [-97, -97, -97],\n",
       "        [-97, -97, -97]],\n",
       "\n",
       "       [[  0, -97,   0],\n",
       "        [-97, -97, -97],\n",
       "        [  0, -97,   0]],\n",
       "\n",
       "       [[  0,   0,   0],\n",
       "        [  0,  35,   0],\n",
       "        [  0,   0,   0]]], dtype=int8)"
      ]
     },
     "execution_count": 3,
     "metadata": {},
     "output_type": "execute_result"
    }
   ],
   "source": [
    "import numpy as np\n",
    "\n",
    "np.asarray(sf.blocks)"
   ]
  },
  {
   "cell_type": "markdown",
   "metadata": {},
   "source": [
    "## First model - cube with 9^3 blocks and 16 block types\n",
    "\n",
    "The first model is a simple cube with 9^3 blocks and 16 block types. \n",
    "\n",
    "**Objective:** Get the model to classify the blocks correctly, we will only provide schematics of cubes with ONLY 1 block type, but in random positions (We will basically fill the cube with 1 block type, and then remove some blocks randomly).\n",
    "\n",
    "**Why:** This is to make sure we are able to train the model to classify the blocks correctly, then we will move on to more complex models where it will actually be classifying multiple block structures."
   ]
  },
  {
   "cell_type": "markdown",
   "metadata": {},
   "source": [
    "### Valid blocks\n",
    "\n",
    "We will only be using the following blocks:\n",
    "**Air, Dirt, Oak Log, Oak Leaves, Stone Brick, Cobblestone, Glass, Sandstone, Redstone Lamp, Iron Bars, Stone Brick, Bricks, Block of Quartz, White Wool, Bookshelf, White Terracotta, Nether Brick**\n",
    "\n",
    "\n",
    "I already have a schematic file with all these blocks lined up in a row, so we will just load that and use it to get the block ids."
   ]
  },
  {
   "cell_type": "code",
   "execution_count": 8,
   "metadata": {},
   "outputs": [
    {
     "data": {
      "text/plain": [
       "array([   0,    3,   17,   18,   97,    4,   20,   24,  123,  101,   45,\n",
       "       -101,   35,   47,  -97,  112], dtype=int8)"
      ]
     },
     "execution_count": 8,
     "metadata": {},
     "output_type": "execute_result"
    }
   ],
   "source": [
    "all_blocks_schematic = SchematicFile.load(\"schematics/allblocks.schematic\")\n",
    "# We reverse the array because I want the air block to be in the front, it doesn't really matter though\n",
    "blocks = np.asarray(all_blocks_schematic.blocks).flatten()[::-1]\n",
    "blocks"
   ]
  },
  {
   "cell_type": "markdown",
   "metadata": {},
   "source": [
    "### One Hot Encoding the blocks\n",
    "\n",
    "We will use a one hot encoding to represent the blocks. We will have a 16 length vector, with each index representing a block type. The index of the block type will be set to 1, and the rest will be 0.\n",
    "\n",
    "**Why:** Block types is a categorical variable, and we need to represent it in a way that the model can understand. One hot encoding is a good way to do this. If we were to use a simple integer encoding, the model would think that the block types are ordinal, and that the block type with the highest integer is the best block type. This is not the case, so we use one hot encoding."
   ]
  }
 ],
 "metadata": {
  "kernelspec": {
   "display_name": "venv",
   "language": "python",
   "name": "python3"
  },
  "language_info": {
   "codemirror_mode": {
    "name": "ipython",
    "version": 3
   },
   "file_extension": ".py",
   "mimetype": "text/x-python",
   "name": "python",
   "nbconvert_exporter": "python",
   "pygments_lexer": "ipython3",
   "version": "3.11.3"
  },
  "orig_nbformat": 4
 },
 "nbformat": 4,
 "nbformat_minor": 2
}
