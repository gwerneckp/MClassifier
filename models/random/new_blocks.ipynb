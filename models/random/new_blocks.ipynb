{
 "cells": [
  {
   "cell_type": "markdown",
   "metadata": {},
   "source": [
    "## New Schematics\n",
    "\n",
    "In this notebook, we will be experimenting reading from schematics from 1.13+. This is when Minecraft changed its ID format, I want to see how we can handle this to be able to use new blocks in our models."
   ]
  },
  {
   "cell_type": "markdown",
   "metadata": {},
   "source": [
    "### Reading the Schematics\n",
    "\n",
    "I will be using the `nbtschematic` library to read the schematics. This library is able to read the new format, but it does not have a way to write the new format. "
   ]
  },
  {
   "cell_type": "code",
   "execution_count": 2,
   "metadata": {},
   "outputs": [],
   "source": [
    "import nbtlib\n",
    "import json\n",
    "\n",
    "# load the schematic\n",
    "sf = nbtlib.load('../../schematics/random/newblocks.schem')\n",
    "# sf['Schematic'].keys()\n",
    "# sf['Schematic']['Palette']\n",
    "def nbt_to_dict(nbt):\n",
    "    if isinstance(nbt, nbtlib.Compound):\n",
    "        return {k: nbt_to_dict(v) for k, v in nbt.items()}\n",
    "    elif isinstance(nbt, nbtlib.List):\n",
    "        return [nbt_to_dict(v) for v in nbt]\n",
    "    elif isinstance(nbt, nbtlib.ByteArray):\n",
    "        return [nbt_to_dict(v) for v in nbt]\n",
    "    elif isinstance(nbt, nbtlib.IntArray):\n",
    "        return [nbt_to_dict(v) for v in nbt]\n",
    "    else:\n",
    "        return nbt\n",
    "\n",
    "        \n",
    "\n",
    "schematic_dict = nbt_to_dict(sf)\n",
    "schematic_json = json.dumps(schematic_dict)\n",
    "with open('newblocks.json', 'w') as f:\n",
    "    f.write(schematic_json)"
   ]
  },
  {
   "cell_type": "markdown",
   "metadata": {},
   "source": [
    "### Comparing my Schematics\n",
    "\n",
    "I created a Java class to save schematics in the v2 format. I will be comparing the schematics I create `WorldEdit` to see if there are any differences."
   ]
  },
  {
   "cell_type": "code",
   "execution_count": 3,
   "metadata": {},
   "outputs": [
    {
     "name": "stdout",
     "output_type": "stream",
     "text": [
      "PaletteMax in my schematic\n",
      "Palette in my schematic\n",
      "Version in my schematic\n",
      "Length in my schematic\n",
      "Metadata in my schematic\n",
      "Height in my schematic\n",
      "DataVersion in my schematic\n",
      "BlockData in my schematic\n",
      "BlockEntities in my schematic\n",
      "Width in my schematic\n",
      "Offset in my schematic\n"
     ]
    }
   ],
   "source": [
    "with open('../../schematics/random/my_schematic.json') as new_schem:\n",
    "    new_schem = json.load(new_schem)\n",
    "\n",
    "for key in schematic_dict['Schematic'].keys():\n",
    "    if key in new_schem['Schematic']:\n",
    "        print(key, 'in my schematic')\n",
    "    else:\n",
    "        print(key, 'not in new_schem')"
   ]
  },
  {
   "cell_type": "markdown",
   "metadata": {},
   "source": [
    "### Palette and BlockData\n",
    "\n",
    "The schematic format uses a palette to store the blocks. This is a list of all the blocks in the schematic. The actual position of the blocks is stored in BlockData. A list of indexes. This is useful as it allows us to store repeating blocks in a more efficient way."
   ]
  },
  {
   "cell_type": "code",
   "execution_count": 36,
   "metadata": {},
   "outputs": [
    {
     "name": "stdout",
     "output_type": "stream",
     "text": [
      "PaletteMax in my schematic\n",
      "Palette in my schematic\n",
      "Version in my schematic\n",
      "Length in my schematic\n",
      "Metadata in my schematic\n",
      "Height in my schematic\n",
      "DataVersion in my schematic\n",
      "BlockData in my schematic\n",
      "BlockEntities in my schematic\n",
      "Width in my schematic\n",
      "Offset in my schematic\n",
      "equal\n"
     ]
    }
   ],
   "source": [
    "def compare_sf_dicts(sf1, sf2):\n",
    "    equal = True\n",
    "    \n",
    "    for key in sf1['Schematic'].keys():\n",
    "        if key in sf2['Schematic']:\n",
    "            print(key, 'in my schematic')\n",
    "        else:\n",
    "            print(key, 'not in new_schem')\n",
    "\n",
    "    for block in sf1['Schematic']['Palette']:\n",
    "        if block not in sf2['Schematic']['Palette']:\n",
    "            print(block, 'not in sf1')\n",
    "            equal = False\n",
    "            continue\n",
    "\n",
    "        position = int(sf1['Schematic']['Palette'][block])\n",
    "        indexes_in_block = [i for i, pos in enumerate(sf1['Schematic']['BlockData']) if pos == position]\n",
    "\n",
    "        indexes_in_block_new = [i for i, pos in enumerate(sf1['Schematic']['BlockData']) if pos == position]\n",
    "\n",
    "        if len(indexes_in_block) != len(indexes_in_block_new):\n",
    "            print('not the same amount of blocks', block, 'old:', len(indexes_in_block), 'new:', len(indexes_in_block_new))\n",
    "            equal = False\n",
    "            continue\n",
    "\n",
    "        for a, b in zip(indexes_in_block, indexes_in_block_new):\n",
    "            if a != b:\n",
    "                print('not in same position', block, indexes_in_block, indexes_in_block_new)\n",
    "                equal = False\n",
    "                break\n",
    "\n",
    "    return equal\n",
    "\n",
    "if compare_sf_dicts(schematic_dict, new_schem):\n",
    "    print('equal')\n",
    "        "
   ]
  },
  {
   "cell_type": "markdown",
   "metadata": {},
   "source": [
    "### NBT\n",
    "\n",
    "I made some changes to my Schematic so it serializes to NBT (not JSON). This is because the `.schematic` standard uses NBT. "
   ]
  },
  {
   "cell_type": "code",
   "execution_count": 66,
   "metadata": {},
   "outputs": [
    {
     "data": {
      "text/plain": [
       "<File '': Compound({'DataVersion': Int(3465), 'PaletteMax': Int(17), 'Width': Short(2), 'BlockData': ByteArray([Byte(0), Byte(1), Byte(2), Byte(3), Byte(4), Byte(5), Byte(6), Byte(7), Byte(8), Byte(9), Byte(10), Byte(11), Byte(12), Byte(13), Byte(12), Byte(12), Byte(12), Byte(13), Byte(12), Byte(12), Byte(12), Byte(14), Byte(15), Byte(16)]), 'Height': Short(2), 'Length': Short(6), 'Palette': Compound({'minecraft:purpur_block': Int(4), 'minecraft:chiseled_polished_blackstone': Int(2), 'minecraft:red_wool': Int(7), 'minecraft:clay': Int(1), 'minecraft:brown_wool': Int(9), 'minecraft:oak_leaves[distance=2,persistent=true,waterlogged=false]': Int(6), 'minecraft:cherry_leaves[distance=1,persistent=true,waterlogged=false]': Int(8), 'minecraft:dirt': Int(11), 'minecraft:oak_log[axis=y]': Int(10), 'minecraft:redstone_wire[east=side,north=none,power=0,south=none,west=side]': Int(15), 'minecraft:sea_lantern': Int(5), 'minecraft:air': Int(12), 'minecraft:packed_ice': Int(0), 'minecraft:end_stone': Int(3), 'minecraft:redstone_wire[east=none,north=side,power=0,south=side,west=none]': Int(14), 'minecraft:redstone_wire[east=none,north=side,power=0,south=none,west=side]': Int(16), 'minecraft:redstone_wire[east=none,north=none,power=0,south=none,west=none]': Int(13)}), 'Metadata': Compound({'WEOffsetX': Int(0), 'WEOffsetZ': Int(0), 'WEOffsetY': Int(0)}), 'Version': Int(2)})>"
      ]
     },
     "execution_count": 66,
     "metadata": {},
     "output_type": "execute_result"
    }
   ],
   "source": [
    "test_1 = nbtlib.load('../../../MClassifierServer/server/plugins/WorldEdit/schematics/new_try.schematic')\n",
    "test_1"
   ]
  },
  {
   "cell_type": "markdown",
   "metadata": {},
   "source": [
    "### Yay it works!\n",
    "\n",
    "I was able to get my schematics file to work."
   ]
  },
  {
   "cell_type": "code",
   "execution_count": 2,
   "metadata": {},
   "outputs": [
    {
     "data": {
      "text/plain": [
       "'{\"Schematic\": {\"PaletteMax\": 17, \"Palette\": {\"minecraft:redstone_wire[east=side,north=none,power=0,south=none,west=side]\": 15, \"minecraft:sea_lantern\": 5, \"minecraft:oak_log[axis=y]\": 10, \"minecraft:brown_wool\": 9, \"minecraft:end_stone\": 3, \"minecraft:redstone_wire[east=none,north=side,power=0,south=side,west=none]\": 14, \"minecraft:dirt\": 11, \"minecraft:redstone_wire[east=none,north=side,power=0,south=none,west=side]\": 16, \"minecraft:clay\": 1, \"minecraft:air\": 12, \"minecraft:chiseled_polished_blackstone\": 2, \"minecraft:oak_leaves[distance=2,persistent=true,waterlogged=false]\": 6, \"minecraft:redstone_wire[east=none,north=none,power=0,south=none,west=none]\": 13, \"minecraft:purpur_block\": 4, \"minecraft:packed_ice\": 0, \"minecraft:red_wool\": 7, \"minecraft:cherry_leaves[distance=1,persistent=true,waterlogged=false]\": 8}, \"Version\": 2, \"Length\": 6, \"Metadata\": {\"WEOffsetX\": 9, \"WEOffsetY\": -2, \"WEOffsetZ\": -1}, \"Height\": 2, \"DataVersion\": 3465, \"BlockData\": [0, 1, 2, 3, 4, 5, 6, 7, 8, 9, 10, 11, 12, 13, 12, 12, 12, 13, 12, 12, 12, 14, 15, 16], \"BlockEntities\": [], \"Width\": 2}}'"
      ]
     },
     "execution_count": 2,
     "metadata": {},
     "output_type": "execute_result"
    }
   ],
   "source": [
    "import json\n",
    "\n",
    "with open('newblocks.json', 'r') as f:\n",
    "    json_data = json.load(f)\n",
    "    json_string = json.dumps(json_data)\n",
    "\n",
    " "
   ]
  }
 ],
 "metadata": {
  "kernelspec": {
   "display_name": "venv",
   "language": "python",
   "name": "python3"
  },
  "language_info": {
   "codemirror_mode": {
    "name": "ipython",
    "version": 3
   },
   "file_extension": ".py",
   "mimetype": "text/x-python",
   "name": "python",
   "nbconvert_exporter": "python",
   "pygments_lexer": "ipython3",
   "version": "3.11.3"
  },
  "orig_nbformat": 4
 },
 "nbformat": 4,
 "nbformat_minor": 2
}
