{
 "cells": [
  {
   "cell_type": "markdown",
   "metadata": {},
   "source": [
    "## Model 2 - 16^3 blocks and 16 block types\n",
    "\n",
    "The second model has the objective of classifying structures in a 16^3 cube. We will use the same 16 block types as before. There will be 4 types of structures we want to classify:\n",
    "- Tree\n",
    "- House\n",
    "- Castle Tower\n",
    "- Pyramid\n"
   ]
  },
  {
   "cell_type": "code",
   "execution_count": null,
   "metadata": {},
   "outputs": [],
   "source": [
    "BUCKET_NAME = 'minecraft-schematics-raw'"
   ]
  },
  {
   "cell_type": "code",
   "execution_count": 2,
   "metadata": {},
   "outputs": [],
   "source": [
    "import torch\n",
    "import torch.nn as nn\n",
    "\n",
    "class BuildingClassifier(nn.Module):\n",
    "    def __init__(self):\n",
    "        super().__init__()\n",
    "        self.flatten = nn.Flatten()\n",
    "        self.linear_relu_stack = nn.Sequential(\n",
    "            nn.Linear(16*16*16*16, 64),\n",
    "            nn.ReLU(),\n",
    "            nn.Linear(64, 64),\n",
    "            nn.ReLU(),\n",
    "            nn.Linear(64, 16),\n",
    "        )\n",
    "\n",
    "    def forward(self, x):\n",
    "        x = self.flatten(x)\n",
    "        x = x.flatten()\n",
    "        logits = self.linear_relu_stack(x)\n",
    "        return logits"
   ]
  },
  {
   "cell_type": "code",
   "execution_count": 9,
   "metadata": {},
   "outputs": [
    {
     "name": "stdout",
     "output_type": "stream",
     "text": [
      "tensor([[[-96, -96, -96,  35,  35,  35,  35,  35,  35,  53,  53]]],\n",
      "       dtype=torch.int8)\n",
      "tensor([[[7, 6, 5, 4, 3, 2, 1, 0, 0, 6, 2]]], dtype=torch.int8)\n"
     ]
    }
   ],
   "source": [
    "from nbtschematic import SchematicFile\n",
    "\n",
    "def schematic_to_tensor(schematic: str)->torch.Tensor:\n",
    "    sf = SchematicFile.load(schematic)\n",
    "    return sf\n",
    "\n",
    "\n",
    "print(torch.tensor(schematic_to_tensor(\"schematics/variants.schematic\").blocks))\n",
    "print(torch.tensor(schematic_to_tensor(\"schematics/variants.schematic\").data))\n"
   ]
  }
 ],
 "metadata": {
  "kernelspec": {
   "display_name": "venv",
   "language": "python",
   "name": "python3"
  },
  "language_info": {
   "codemirror_mode": {
    "name": "ipython",
    "version": 3
   },
   "file_extension": ".py",
   "mimetype": "text/x-python",
   "name": "python",
   "nbconvert_exporter": "python",
   "pygments_lexer": "ipython3",
   "version": "3.11.3"
  },
  "orig_nbformat": 4
 },
 "nbformat": 4,
 "nbformat_minor": 2
}
